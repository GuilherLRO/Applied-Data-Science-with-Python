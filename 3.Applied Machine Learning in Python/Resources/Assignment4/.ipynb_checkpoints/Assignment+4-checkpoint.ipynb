{
 "cells": [
  {
   "cell_type": "markdown",
   "metadata": {},
   "source": [
    "---\n",
    "\n",
    "_You are currently looking at **version 1.1** of this notebook. To download notebooks and datafiles, as well as get help on Jupyter notebooks in the Coursera platform, visit the [Jupyter Notebook FAQ](https://www.coursera.org/learn/python-machine-learning/resources/bANLa) course resource._\n",
    "\n",
    "---"
   ]
  },
  {
   "cell_type": "code",
   "execution_count": 2,
   "metadata": {},
   "outputs": [],
   "source": [
    "import matplotlib.pyplot as plt\n",
    "import pandas as pd\n",
    "import numpy as np\n",
    "from sklearn.model_selection import train_test_split\n",
    "\n",
    "\n",
    "def blight_model():\n",
    "    train = pd.read_csv('train.csv',encoding = ' latin1 ')\n",
    "    \n",
    "    return train.head()"
   ]
  },
  {
   "cell_type": "code",
   "execution_count": 3,
   "metadata": {},
   "outputs": [
    {
     "name": "stderr",
     "output_type": "stream",
     "text": [
      "C:\\ProgramData\\Anaconda3\\lib\\site-packages\\IPython\\core\\interactiveshell.py:3165: DtypeWarning: Columns (11,12,31) have mixed types.Specify dtype option on import or set low_memory=False.\n",
      "  has_raised = await self.run_ast_nodes(code_ast.body, cell_name,\n"
     ]
    }
   ],
   "source": [
    "train = pd.read_csv('train.csv',encoding = ' latin1')\n",
    "validation = pd.read_csv('test.csv',encoding = ' latin1')"
   ]
  },
  {
   "cell_type": "code",
   "execution_count": 4,
   "metadata": {},
   "outputs": [
    {
     "name": "stdout",
     "output_type": "stream",
     "text": [
      "inicial size: 250306, size whitout nans:159880, ratio: 0.64 \n"
     ]
    }
   ],
   "source": [
    "train.iloc[:,[11,12,13]] = train.iloc[:,[11,12,13]].apply(str)\n",
    "\n",
    "val_columns = validation.columns\n",
    "\n",
    "train_nan = train[train['compliance'].notna()]\n",
    "X = train_nan[val_columns]\n",
    "y = train_nan['compliance']\n",
    "print('inicial size: {}, size whitout nans:{}, ratio: {} '.format(train.shape[0],train_nan.shape[0],round(train_nan.shape[0]/train.shape[0],2)))"
   ]
  },
  {
   "cell_type": "code",
   "execution_count": 5,
   "metadata": {},
   "outputs": [],
   "source": [
    "X= X[['ticket_id', 'agency_name', 'inspector_name',\n",
    "       'violation_street_number', 'violation_street_name','mailing_address_str_number',\n",
    "       'mailing_address_str_name', 'city', 'state','country', 'ticket_issued_date', \n",
    "       'violation_code', 'violation_description', 'fine_amount', 'discount_amount', 'judgment_amount', 'grafitti_status']]\n",
    "X.set_index('ticket_id', inplace =  True)\n"
   ]
  },
  {
   "cell_type": "code",
   "execution_count": 6,
   "metadata": {},
   "outputs": [
    {
     "data": {
      "text/html": [
       "<div>\n",
       "<style scoped>\n",
       "    .dataframe tbody tr th:only-of-type {\n",
       "        vertical-align: middle;\n",
       "    }\n",
       "\n",
       "    .dataframe tbody tr th {\n",
       "        vertical-align: top;\n",
       "    }\n",
       "\n",
       "    .dataframe thead th {\n",
       "        text-align: right;\n",
       "    }\n",
       "</style>\n",
       "<table border=\"1\" class=\"dataframe\">\n",
       "  <thead>\n",
       "    <tr style=\"text-align: right;\">\n",
       "      <th></th>\n",
       "      <th>Variable</th>\n",
       "      <th>Qte</th>\n",
       "    </tr>\n",
       "  </thead>\n",
       "  <tbody>\n",
       "    <tr>\n",
       "      <th>0</th>\n",
       "      <td>agency_name</td>\n",
       "      <td>5</td>\n",
       "    </tr>\n",
       "    <tr>\n",
       "      <th>1</th>\n",
       "      <td>inspector_name</td>\n",
       "      <td>159</td>\n",
       "    </tr>\n",
       "    <tr>\n",
       "      <th>2</th>\n",
       "      <td>violation_street_name</td>\n",
       "      <td>1716</td>\n",
       "    </tr>\n",
       "    <tr>\n",
       "      <th>3</th>\n",
       "      <td>mailing_address_str_name</td>\n",
       "      <td>28441</td>\n",
       "    </tr>\n",
       "    <tr>\n",
       "      <th>4</th>\n",
       "      <td>city</td>\n",
       "      <td>4093</td>\n",
       "    </tr>\n",
       "    <tr>\n",
       "      <th>5</th>\n",
       "      <td>state</td>\n",
       "      <td>60</td>\n",
       "    </tr>\n",
       "    <tr>\n",
       "      <th>6</th>\n",
       "      <td>country</td>\n",
       "      <td>1</td>\n",
       "    </tr>\n",
       "    <tr>\n",
       "      <th>7</th>\n",
       "      <td>ticket_issued_date</td>\n",
       "      <td>68097</td>\n",
       "    </tr>\n",
       "    <tr>\n",
       "      <th>8</th>\n",
       "      <td>violation_code</td>\n",
       "      <td>189</td>\n",
       "    </tr>\n",
       "    <tr>\n",
       "      <th>9</th>\n",
       "      <td>violation_description</td>\n",
       "      <td>207</td>\n",
       "    </tr>\n",
       "    <tr>\n",
       "      <th>10</th>\n",
       "      <td>grafitti_status</td>\n",
       "      <td>1</td>\n",
       "    </tr>\n",
       "  </tbody>\n",
       "</table>\n",
       "</div>"
      ],
      "text/plain": [
       "                    Variable    Qte\n",
       "0                agency_name      5\n",
       "1             inspector_name    159\n",
       "2      violation_street_name   1716\n",
       "3   mailing_address_str_name  28441\n",
       "4                       city   4093\n",
       "5                      state     60\n",
       "6                    country      1\n",
       "7         ticket_issued_date  68097\n",
       "8             violation_code    189\n",
       "9      violation_description    207\n",
       "10           grafitti_status      1"
      ]
     },
     "execution_count": 6,
     "metadata": {},
     "output_type": "execute_result"
    }
   ],
   "source": [
    "types = pd.DataFrame(zip(X.columns,X.dtypes),columns=['Variable','Type']) \n",
    "categorical = types['Variable'][types['Type'] == 'object']\n",
    "\n",
    "v = []\n",
    "c = []\n",
    "for var in categorical:\n",
    "    v.append(var)\n",
    "    c.append(X[var].unique().shape[0])\n",
    "qtes = pd.DataFrame(zip(v,c),columns=['Variable','Qte'])\n",
    "qtes\n"
   ]
  },
  {
   "cell_type": "code",
   "execution_count": 7,
   "metadata": {},
   "outputs": [],
   "source": [
    "X['ticket_issued_month'] = pd.DatetimeIndex(X['ticket_issued_date']).month\n",
    "X['ticket_issued_year'] = pd.DatetimeIndex(X['ticket_issued_date']).year\n",
    "\n",
    "X = X.drop(columns=['country','violation_description', 'grafitti_status','city','mailing_address_str_name','violation_street_name','inspector_name','ticket_issued_date'])"
   ]
  },
  {
   "cell_type": "code",
   "execution_count": 8,
   "metadata": {},
   "outputs": [
    {
     "data": {
      "text/html": [
       "<div>\n",
       "<style scoped>\n",
       "    .dataframe tbody tr th:only-of-type {\n",
       "        vertical-align: middle;\n",
       "    }\n",
       "\n",
       "    .dataframe tbody tr th {\n",
       "        vertical-align: top;\n",
       "    }\n",
       "\n",
       "    .dataframe thead th {\n",
       "        text-align: right;\n",
       "    }\n",
       "</style>\n",
       "<table border=\"1\" class=\"dataframe\">\n",
       "  <thead>\n",
       "    <tr style=\"text-align: right;\">\n",
       "      <th></th>\n",
       "      <th>Variable</th>\n",
       "      <th>Qte</th>\n",
       "    </tr>\n",
       "  </thead>\n",
       "  <tbody>\n",
       "    <tr>\n",
       "      <th>0</th>\n",
       "      <td>agency_name</td>\n",
       "      <td>5</td>\n",
       "    </tr>\n",
       "    <tr>\n",
       "      <th>1</th>\n",
       "      <td>state</td>\n",
       "      <td>60</td>\n",
       "    </tr>\n",
       "    <tr>\n",
       "      <th>2</th>\n",
       "      <td>violation_code</td>\n",
       "      <td>189</td>\n",
       "    </tr>\n",
       "  </tbody>\n",
       "</table>\n",
       "</div>"
      ],
      "text/plain": [
       "         Variable  Qte\n",
       "0     agency_name    5\n",
       "1           state   60\n",
       "2  violation_code  189"
      ]
     },
     "execution_count": 8,
     "metadata": {},
     "output_type": "execute_result"
    }
   ],
   "source": [
    "types = pd.DataFrame(zip(X.columns,X.dtypes),columns=['Variable','Type']) \n",
    "categorical = types['Variable'][types['Type'] == 'object']\n",
    "\n",
    "v = []\n",
    "c = []\n",
    "for var in categorical:\n",
    "    v.append(var)\n",
    "    c.append(X[var].unique().shape[0])\n",
    "qtes = pd.DataFrame(zip(v,c),columns=['Variable','Qte'])\n",
    "qtes"
   ]
  },
  {
   "cell_type": "code",
   "execution_count": 9,
   "metadata": {},
   "outputs": [
    {
     "data": {
      "text/plain": [
       "array(['9', '61', '22', '19450901', '20130901', '19830901', '19840901',\n",
       "       '19850901', '20180901', '19420901', '20160901'], dtype=object)"
      ]
     },
     "execution_count": 9,
     "metadata": {},
     "output_type": "execute_result"
    }
   ],
   "source": [
    "X['violation_code'] = X['violation_code'].str.split('-',expand=True)[0]\n",
    "X['violation_code'].unique()"
   ]
  },
  {
   "cell_type": "code",
   "execution_count": 10,
   "metadata": {},
   "outputs": [],
   "source": [
    "X = pd.get_dummies(X, columns=categorical,prefix=categorical)"
   ]
  },
  {
   "cell_type": "code",
   "execution_count": 11,
   "metadata": {},
   "outputs": [],
   "source": [
    "from sklearn.naive_bayes import GaussianNB\n",
    "\n",
    "X_train, X_test, y_train, y_test = train_test_split(X.fillna(-1), y, test_size=0.3, random_state=0)\n",
    "\n",
    "gnb = GaussianNB()\n",
    "\n",
    "y_pred = gnb.fit(X_train, y_train).predict(X_test)\n",
    "y_pred_prob = gnb.fit(X_train, y_train).predict_proba(X_test)"
   ]
  },
  {
   "cell_type": "code",
   "execution_count": 12,
   "metadata": {},
   "outputs": [
    {
     "data": {
      "text/plain": [
       "(0.9343882912184138, 0.09067131647776809, 0.9454545454545454)"
      ]
     },
     "execution_count": 12,
     "metadata": {},
     "output_type": "execute_result"
    }
   ],
   "source": [
    "from sklearn.metrics import recall_score,precision_score,accuracy_score,confusion_matrix\n",
    "\n",
    "(accuracy_score(y_test, y_pred),recall_score(y_test, y_pred),precision_score(y_test, y_pred))\n"
   ]
  },
  {
   "cell_type": "code",
   "execution_count": 13,
   "metadata": {},
   "outputs": [
    {
     "data": {
      "text/plain": [
       "array([[44505,    18],\n",
       "       [ 3129,   312]], dtype=int64)"
      ]
     },
     "execution_count": 13,
     "metadata": {},
     "output_type": "execute_result"
    }
   ],
   "source": [
    "confusion_matrix(y_test, y_pred)"
   ]
  },
  {
   "cell_type": "code",
   "execution_count": 19,
   "metadata": {},
   "outputs": [
    {
     "data": {
      "text/plain": [
       "[Text(180.7159090909091, 199.32, 'X[3] <= 1.5\\ngini = 0.135\\nsamples = 111916\\nvalue = [103760, 8156]'),\n",
       " Text(100.82045454545455, 163.07999999999998, 'X[4] <= 302.5\\ngini = 0.124\\nsamples = 111074\\nvalue = [103721, 7353]'),\n",
       " Text(41.85, 126.83999999999999, 'X[2] <= 210.0\\ngini = 0.211\\nsamples = 39880\\nvalue = [35100, 4780]'),\n",
       " Text(15.218181818181819, 90.6, 'X[4] <= 52.5\\ngini = 0.173\\nsamples = 35298\\nvalue = [31926, 3372]'),\n",
       " Text(7.609090909090909, 54.359999999999985, 'gini = 0.0\\nsamples = 151\\nvalue = [0, 151]'),\n",
       " Text(22.827272727272728, 54.359999999999985, 'X[4] <= 82.5\\ngini = 0.166\\nsamples = 35147\\nvalue = [31926, 3221]'),\n",
       " Text(15.218181818181819, 18.119999999999976, 'gini = 0.305\\nsamples = 2806\\nvalue = [2279, 527]'),\n",
       " Text(30.436363636363637, 18.119999999999976, 'gini = 0.153\\nsamples = 32341\\nvalue = [29647, 2694]'),\n",
       " Text(68.48181818181818, 90.6, 'X[5] <= 5.5\\ngini = 0.426\\nsamples = 4582\\nvalue = [3174, 1408]'),\n",
       " Text(53.263636363636365, 54.359999999999985, 'X[6] <= 2007.5\\ngini = 0.461\\nsamples = 2292\\nvalue = [1467, 825]'),\n",
       " Text(45.654545454545456, 18.119999999999976, 'gini = 0.475\\nsamples = 1508\\nvalue = [924, 584]'),\n",
       " Text(60.872727272727275, 18.119999999999976, 'gini = 0.426\\nsamples = 784\\nvalue = [543, 241]'),\n",
       " Text(83.7, 54.359999999999985, 'X[6] <= 2006.5\\ngini = 0.38\\nsamples = 2290\\nvalue = [1707, 583]'),\n",
       " Text(76.0909090909091, 18.119999999999976, 'gini = 0.416\\nsamples = 1195\\nvalue = [843, 352]'),\n",
       " Text(91.30909090909091, 18.119999999999976, 'gini = 0.333\\nsamples = 1095\\nvalue = [864, 231]'),\n",
       " Text(159.7909090909091, 126.83999999999999, 'X[6] <= 2006.5\\ngini = 0.07\\nsamples = 71194\\nvalue = [68621, 2573]'),\n",
       " Text(129.35454545454547, 90.6, 'X[5] <= 4.5\\ngini = 0.086\\nsamples = 22987\\nvalue = [21949, 1038]'),\n",
       " Text(114.13636363636364, 54.359999999999985, 'X[6] <= 2005.5\\ngini = 0.121\\nsamples = 7260\\nvalue = [6789, 471]'),\n",
       " Text(106.52727272727273, 18.119999999999976, 'gini = 0.146\\nsamples = 3622\\nvalue = [3335, 287]'),\n",
       " Text(121.74545454545455, 18.119999999999976, 'gini = 0.096\\nsamples = 3638\\nvalue = [3454, 184]'),\n",
       " Text(144.57272727272726, 54.359999999999985, 'X[6] <= 2005.5\\ngini = 0.07\\nsamples = 15727\\nvalue = [15160, 567]'),\n",
       " Text(136.96363636363637, 18.119999999999976, 'gini = 0.041\\nsamples = 6402\\nvalue = [6269, 133]'),\n",
       " Text(152.1818181818182, 18.119999999999976, 'gini = 0.089\\nsamples = 9325\\nvalue = [8891, 434]'),\n",
       " Text(190.22727272727275, 90.6, 'X[1] <= 1311.5\\ngini = 0.062\\nsamples = 48207\\nvalue = [46672, 1535]'),\n",
       " Text(175.0090909090909, 54.359999999999985, 'X[71] <= 0.5\\ngini = 0.077\\nsamples = 17563\\nvalue = [16863, 700]'),\n",
       " Text(167.4, 18.119999999999976, 'gini = 0.076\\nsamples = 17557\\nvalue = [16861, 696]'),\n",
       " Text(182.61818181818182, 18.119999999999976, 'gini = 0.444\\nsamples = 6\\nvalue = [2, 4]'),\n",
       " Text(205.44545454545454, 54.359999999999985, 'X[70] <= 0.5\\ngini = 0.053\\nsamples = 30644\\nvalue = [29809, 835]'),\n",
       " Text(197.83636363636364, 18.119999999999976, 'gini = 0.053\\nsamples = 30643\\nvalue = [29809, 834]'),\n",
       " Text(213.05454545454546, 18.119999999999976, 'gini = 0.0\\nsamples = 1\\nvalue = [0, 1]'),\n",
       " Text(260.61136363636365, 163.07999999999998, 'X[2] <= 225.0\\ngini = 0.088\\nsamples = 842\\nvalue = [39, 803]'),\n",
       " Text(220.66363636363639, 126.83999999999999, 'X[1] <= 718.5\\ngini = 0.14\\nsamples = 342\\nvalue = [26, 316]'),\n",
       " Text(213.05454545454546, 90.6, 'gini = 0.0\\nsamples = 84\\nvalue = [0, 84]'),\n",
       " Text(228.27272727272728, 90.6, 'X[1] <= 747.0\\ngini = 0.181\\nsamples = 258\\nvalue = [26, 232]'),\n",
       " Text(220.66363636363639, 54.359999999999985, 'gini = 0.0\\nsamples = 1\\nvalue = [1, 0]'),\n",
       " Text(235.88181818181818, 54.359999999999985, 'X[5] <= 5.5\\ngini = 0.176\\nsamples = 257\\nvalue = [25, 232]'),\n",
       " Text(228.27272727272728, 18.119999999999976, 'gini = 0.237\\nsamples = 153\\nvalue = [21, 132]'),\n",
       " Text(243.4909090909091, 18.119999999999976, 'gini = 0.074\\nsamples = 104\\nvalue = [4, 100]'),\n",
       " Text(300.5590909090909, 126.83999999999999, 'X[9] <= 0.5\\ngini = 0.051\\nsamples = 500\\nvalue = [13, 487]'),\n",
       " Text(281.53636363636366, 90.6, 'X[0] <= 1360.0\\ngini = 0.047\\nsamples = 498\\nvalue = [12, 486]'),\n",
       " Text(266.3181818181818, 54.359999999999985, 'X[0] <= 1338.0\\ngini = 0.21\\nsamples = 42\\nvalue = [5, 37]'),\n",
       " Text(258.70909090909095, 18.119999999999976, 'gini = 0.176\\nsamples = 41\\nvalue = [4, 37]'),\n",
       " Text(273.92727272727274, 18.119999999999976, 'gini = 0.0\\nsamples = 1\\nvalue = [1, 0]'),\n",
       " Text(296.75454545454545, 54.359999999999985, 'X[0] <= 5638.5\\ngini = 0.03\\nsamples = 456\\nvalue = [7, 449]'),\n",
       " Text(289.1454545454545, 18.119999999999976, 'gini = 0.086\\nsamples = 111\\nvalue = [5, 106]'),\n",
       " Text(304.3636363636364, 18.119999999999976, 'gini = 0.012\\nsamples = 345\\nvalue = [2, 343]'),\n",
       " Text(319.5818181818182, 90.6, 'X[0] <= 14763.5\\ngini = 0.5\\nsamples = 2\\nvalue = [1, 1]'),\n",
       " Text(311.9727272727273, 54.359999999999985, 'gini = 0.0\\nsamples = 1\\nvalue = [0, 1]'),\n",
       " Text(327.1909090909091, 54.359999999999985, 'gini = 0.0\\nsamples = 1\\nvalue = [1, 0]')]"
      ]
     },
     "execution_count": 19,
     "metadata": {},
     "output_type": "execute_result"
    },
    {
     "data": {
      "image/png": "[encoded data removed]",
      "text/plain": [
       "<Figure size 432x288 with 1 Axes>"
      ]
     },
     "metadata": {
      "needs_background": "light"
     },
     "output_type": "display_data"
    }
   ],
   "source": [
    "%matplotlib inline\n",
    "from sklearn import tree\n",
    "\n",
    "clf = tree.DecisionTreeClassifier(max_depth = 5)\n",
    "clf = clf.fit(X_train, y_train)\n",
    "\n",
    "tree.plot_tree(clf)"
   ]
  },
  {
   "cell_type": "code",
   "execution_count": 17,
   "metadata": {},
   "outputs": [
    {
     "data": {
      "text/plain": [
       "(0.9345550829789009, 0.0929962220284801, 0.9467455621301775)"
      ]
     },
     "execution_count": 17,
     "metadata": {},
     "output_type": "execute_result"
    }
   ],
   "source": [
    "y_pred_t = clf.predict(X_test)\n",
    "y_pred_prob_t = clf.predict_proba(X_test)\n",
    "\n",
    "(accuracy_score(y_test, y_pred_t),recall_score(y_test, y_pred_t),precision_score(y_test, y_pred_t))"
   ]
  },
  {
   "cell_type": "code",
   "execution_count": null,
   "metadata": {},
   "outputs": [],
   "source": []
  }
 ],
 "metadata": {
  "coursera": {
   "course_slug": "python-machine-learning",
   "graded_item_id": "nNS8l",
   "launcher_item_id": "yWWk7",
   "part_id": "w8BSS"
  },
  "interpreter": {
   "hash": "b3ba2566441a7c06988d0923437866b63cedc61552a5af99d1f4fb67d367b25f"
  },
  "kernelspec": {
   "display_name": "Python 3",
   "language": "python",
   "name": "python3"
  },
  "language_info": {
   "codemirror_mode": {
    "name": "ipython",
    "version": 3
   },
   "file_extension": ".py",
   "mimetype": "text/x-python",
   "name": "python",
   "nbconvert_exporter": "python",
   "pygments_lexer": "ipython3",
   "version": "3.8.8"
  }
 },
 "nbformat": 4,
 "nbformat_minor": 2
}
