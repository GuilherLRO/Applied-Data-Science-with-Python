{
 "cells": [
  {
   "cell_type": "markdown",
   "metadata": {},
   "source": [
    "---\n",
    "\n",
    "_You are currently looking at **version 1.1** of this notebook. To download notebooks and datafiles, as well as get help on Jupyter notebooks in the Coursera platform, visit the [Jupyter Notebook FAQ](https://www.coursera.org/learn/python-text-mining/resources/d9pwm) course resource._\n",
    "\n",
    "---"
   ]
  },
  {
   "cell_type": "markdown",
   "metadata": {},
   "source": [
    "# Assignment 3\n",
    "\n",
    "In this assignment you will explore text message data and create models to predict if a message is spam or not. "
   ]
  },
  {
   "cell_type": "code",
   "execution_count": null,
   "metadata": {
    "collapsed": true
   },
   "outputs": [],
   "source": [
    "import pandas as pd\n",
    "import numpy as np\n",
    "0\n",
    "spam_data = pd.read_csv('spam.csv')\n",
    "\n",
    "spam_data['target'] = np.where(spam_data['target']=='spam',1,0)\n",
    "spam_data.head(10)"
   ]
  },
  {
   "cell_type": "code",
   "execution_count": null,
   "metadata": {
    "collapsed": true
   },
   "outputs": [],
   "source": [
    "from sklearn.model_selection import train_test_split\n",
    "\n",
    "\n",
    "X_train, X_test, y_train, y_test = train_test_split(spam_data['text'], \n",
    "                                                    spam_data['target'], \n",
    "                                                    random_state=0)"
   ]
  },
  {
   "cell_type": "markdown",
   "metadata": {},
   "source": [
    "### Question 1\n",
    "What percentage of the documents in `spam_data` are spam?\n",
    "\n",
    "*This function should return a float, the percent value (i.e. $ratio * 100$).*"
   ]
  },
  {
   "cell_type": "code",
   "execution_count": null,
   "metadata": {
    "collapsed": true
   },
   "outputs": [],
   "source": [
    "def answer_one():\n",
    "    \n",
    "    \n",
    "    return spam_data['target'].mean() * 100"
   ]
  },
  {
   "cell_type": "code",
   "execution_count": null,
   "metadata": {
    "collapsed": true
   },
   "outputs": [],
   "source": [
    "answer_one()"
   ]
  },
  {
   "cell_type": "markdown",
   "metadata": {},
   "source": [
    "### Question 2\n",
    "\n",
    "Fit the training data `X_train` using a Count Vectorizer with default parameters.\n",
    "\n",
    "What is the longest token in the vocabulary?\n",
    "\n",
    "*This function should return a string.*"
   ]
  },
  {
   "cell_type": "code",
   "execution_count": null,
   "metadata": {
    "collapsed": true
   },
   "outputs": [],
   "source": [
    "from sklearn.feature_extraction.text import CountVectorizer\n",
    "\n",
    "def answer_two():\n",
    "    \n",
    "    vect = CountVectorizer().fit(X_train)\n",
    "    tokens = [w for w in vect.vocabulary_.keys()]\n",
    "    lens = [len(w) for w in tokens]\n",
    "    \n",
    "    return tokens[np.argmax(lens)]"
   ]
  },
  {
   "cell_type": "code",
   "execution_count": null,
   "metadata": {
    "collapsed": true
   },
   "outputs": [],
   "source": [
    "answer_two()"
   ]
  },
  {
   "cell_type": "markdown",
   "metadata": {},
   "source": [
    "### Question 3\n",
    "\n",
    "Fit and transform the training data `X_train` using a Count Vectorizer with default parameters.\n",
    "\n",
    "Next, fit a fit a multinomial Naive Bayes classifier model with smoothing `alpha=0.1`. Find the area under the curve (AUC) score using the transformed test data.\n",
    "\n",
    "*This function should return the AUC score as a float.*"
   ]
  },
  {
   "cell_type": "code",
   "execution_count": null,
   "metadata": {
    "collapsed": true
   },
   "outputs": [],
   "source": [
    "from sklearn.naive_bayes import MultinomialNB\n",
    "from sklearn.metrics import roc_auc_score, plot_roc_curve\n",
    "\n",
    "def answer_three():\n",
    "    vect = CountVectorizer().fit(X_train)\n",
    "    X_train_vectorized = vect.transform(X_train)\n",
    "    \n",
    "    mdl = MultinomialNB(alpha = 0.1)\n",
    "    mdl.fit(X_train_vectorized,y_train)\n",
    "    \n",
    "    X_test_vectorized = vect.transform(X_test)\n",
    "\n",
    "    score = roc_auc_score(y_test, mdl.predict_proba(X_test_vectorized)[:,1])\n",
    "\n",
    "    #plot_roc_curve(mdl,X_test_vectorized,y_test)\n",
    "\n",
    "    return score"
   ]
  },
  {
   "cell_type": "code",
   "execution_count": null,
   "metadata": {
    "collapsed": true
   },
   "outputs": [],
   "source": [
    "answer_three()\n"
   ]
  },
  {
   "cell_type": "markdown",
   "metadata": {},
   "source": [
    "### Question 4\n",
    "\n",
    "Fit and transform the training data `X_train` using a Tfidf Vectorizer with default parameters.\n",
    "\n",
    "What 20 features have the smallest tf-idf and what 20 have the largest tf-idf?\n",
    "\n",
    "Put these features in a two series where each series is sorted by tf-idf value and then alphabetically by feature name. The index of the series should be the feature name, and the data should be the tf-idf.\n",
    "\n",
    "The series of 20 features with smallest tf-idfs should be sorted smallest tfidf first, the list of 20 features with largest tf-idfs should be sorted largest first. \n",
    "\n",
    "*This function should return a tuple of two series\n",
    "`(smallest tf-idfs series, largest tf-idfs series)`.*"
   ]
  },
  {
   "cell_type": "code",
   "execution_count": null,
   "metadata": {
    "collapsed": true
   },
   "outputs": [],
   "source": [
    "from sklearn.feature_extraction.text import TfidfVectorizer\n",
    "\n",
    "def answer_four():\n",
    "\n",
    "    #fitting TfidfVectorizer to the data\n",
    "    vect = TfidfVectorizer().fit(X_train)\n",
    "\n",
    "    X_train_vectorized = vect.transform(X_train)\n",
    "    \n",
    "    #putting max values td-idfs into a dataframe and sorting it\n",
    "\n",
    "    df = pd.DataFrame({\"token\": vect.get_feature_names_out(),\n",
    "                        \"td-idfs\" :X_train_vectorized.max(0).toarray()[0] })\n",
    "    df.columns.name = None\n",
    "\n",
    "    smallest = df.sort_values(by = \"td-idfs\", ascending= True).iloc[:20]\n",
    "    largest = df.sort_values(by = \"td-idfs\", ascending= False).iloc[:20]\n",
    "    \n",
    "    #adjusting data for the disired output format\n",
    "    smallest_series = pd.Series(smallest['td-idfs'].tolist(), index = smallest['token'].tolist())\n",
    "    largest_series = pd.Series(largest['td-idfs'].tolist(), index = largest['token'].tolist())\n",
    "\n",
    "    return  (smallest_series,largest_series)  "
   ]
  },
  {
   "cell_type": "code",
   "execution_count": null,
   "metadata": {
    "collapsed": true
   },
   "outputs": [],
   "source": [
    "answer_four()"
   ]
  },
  {
   "cell_type": "markdown",
   "metadata": {},
   "source": [
    "### Question 5\n",
    "\n",
    "Fit and transform the training data `X_train` using a Tfidf Vectorizer ignoring terms that have a document frequency strictly lower than **3**.\n",
    "\n",
    "Then fit a multinomial Naive Bayes classifier model with smoothing `alpha=0.1` and compute the area under the curve (AUC) score using the transformed test data.\n",
    "\n",
    "*This function should return the AUC score as a float.*"
   ]
  },
  {
   "cell_type": "code",
   "execution_count": null,
   "metadata": {
    "collapsed": true
   },
   "outputs": [],
   "source": [
    "def answer_five():\n",
    "\n",
    "    #fitting TfidfVectorizer to the data\n",
    "    vect = TfidfVectorizer(min_df = 3).fit(X_train)\n",
    "    X_train_vectorized = vect.transform(X_train)\n",
    "    \n",
    "    \n",
    "    mdl = MultinomialNB(alpha = 0.1)\n",
    "    mdl.fit(X_train_vectorized,y_train)\n",
    "    \n",
    "    X_test_vectorized = vect.transform(X_test)\n",
    "\n",
    "    score = roc_auc_score(y_test, mdl.predict_proba(X_test_vectorized)[:,1])\n",
    "\n",
    "    #plot_roc_curve(mdl,X_test_vectorized,y_test)\n",
    "\n",
    "    return score"
   ]
  },
  {
   "cell_type": "code",
   "execution_count": null,
   "metadata": {
    "collapsed": true
   },
   "outputs": [],
   "source": [
    "answer_five()"
   ]
  },
  {
   "cell_type": "markdown",
   "metadata": {},
   "source": [
    "### Question 6\n",
    "\n",
    "What is the average length of documents (number of characters) for not spam and spam documents?\n",
    "\n",
    "*This function should return a tuple (average length not spam, average length spam).*"
   ]
  },
  {
   "cell_type": "code",
   "execution_count": null,
   "metadata": {
    "collapsed": true
   },
   "outputs": [],
   "source": [
    "def answer_six():\n",
    "    \n",
    "    #adding length information inthe df\n",
    "    spam_data['lenght'] = spam_data['text'].apply(lambda x : len(x))\n",
    "\n",
    "    #calculating average values\n",
    "    spam_text_len   = spam_data['lenght'][spam_data['target'] == 1].mean()\n",
    "    n_spam_text_len = spam_data['lenght'][spam_data['target'] == 0].mean()\n",
    "\n",
    "    return (n_spam_text_len,spam_text_len)"
   ]
  },
  {
   "cell_type": "code",
   "execution_count": null,
   "metadata": {
    "collapsed": true
   },
   "outputs": [],
   "source": [
    "answer_six()"
   ]
  },
  {
   "cell_type": "markdown",
   "metadata": {},
   "source": [
    "<br>\n",
    "<br>\n",
    "The following function has been provided to help you combine new features into the training data:"
   ]
  },
  {
   "cell_type": "code",
   "execution_count": null,
   "metadata": {
    "collapsed": true
   },
   "outputs": [],
   "source": [
    "def add_feature(X, feature_to_add):\n",
    "    \"\"\"\n",
    "    Returns sparse feature matrix with added feature.\n",
    "    feature_to_add can also be a list of features.\n",
    "    \"\"\"\n",
    "    from scipy.sparse import csr_matrix, hstack\n",
    "    return hstack([X, csr_matrix(feature_to_add).T], 'csr')"
   ]
  },
  {
   "cell_type": "markdown",
   "metadata": {},
   "source": [
    "### Question 7\n",
    "\n",
    "Fit and transform the training data X_train using a Tfidf Vectorizer ignoring terms that have a document frequency strictly lower than **5**.\n",
    "\n",
    "Using this document-term matrix and an additional feature, **the length of document (number of characters)**, fit a Support Vector Classification model with regularization `C=10000`. Then compute the area under the curve (AUC) score using the transformed test data.\n",
    "\n",
    "*This function should return the AUC score as a float.*"
   ]
  },
  {
   "cell_type": "code",
   "execution_count": null,
   "metadata": {
    "collapsed": true
   },
   "outputs": [],
   "source": [
    "from sklearn.svm import SVC\n",
    "\n",
    "def answer_seven():\n",
    "\n",
    "    #fitting TfidfVectorizer to the data\n",
    "    vect = TfidfVectorizer(min_df = 5).fit(X_train)\n",
    "    X_train_vectorized = vect.transform(X_train)\n",
    "    \n",
    "    #adding length feature\n",
    "    X_train_vectorized = add_feature(X_train_vectorized, X_train.apply(lambda x: len(x)))\n",
    "\n",
    "    #fitting model\n",
    "    mdl = SVC(C = 10000)\n",
    "    mdl.fit(X_train_vectorized,y_train)\n",
    "    \n",
    "    X_test_vectorized = vect.transform(X_test)\n",
    "    X_test_vectorized = add_feature(X_test_vectorized, X_test.apply(lambda x: len(x)))\n",
    "\n",
    "    score = roc_auc_score(y_test, mdl.decision_function(X_test_vectorized))\n",
    "\n",
    "    #plot_roc_curve(mdl,X_test_vectorized,y_test)\n",
    "    \n",
    "    return score"
   ]
  },
  {
   "cell_type": "code",
   "execution_count": null,
   "metadata": {
    "collapsed": true
   },
   "outputs": [],
   "source": [
    "answer_seven()"
   ]
  },
  {
   "cell_type": "markdown",
   "metadata": {},
   "source": [
    "### Question 8\n",
    "\n",
    "What is the average number of digits per document for not spam and spam documents?\n",
    "\n",
    "*This function should return a tuple (average # digits not spam, average # digits spam).*"
   ]
  },
  {
   "cell_type": "code",
   "execution_count": 195,
   "metadata": {
    "collapsed": true
   },
   "outputs": [],
   "source": [
    "import re\n",
    "def answer_eight():\n",
    "\n",
    "    spam_data[\"n_digits\"] = spam_data['text'].apply(lambda x : len(re.findall('\\d',x)))\n",
    "\n",
    "    #calculating average values\n",
    "    spam_text_dgts   = spam_data[\"n_digits\"][spam_data['target'] == 1].mean()\n",
    "    n_spam_text_dgts = spam_data[\"n_digits\"][spam_data['target'] == 0].mean()\n",
    "\n",
    "    return (n_spam_text_dgts,spam_text_dgts)"
   ]
  },
  {
   "cell_type": "code",
   "execution_count": 196,
   "metadata": {
    "collapsed": true
   },
   "outputs": [
    {
     "data": {
      "text/plain": [
       "(0.2992746113989637, 15.759036144578314)"
      ]
     },
     "execution_count": 196,
     "metadata": {},
     "output_type": "execute_result"
    }
   ],
   "source": [
    "answer_eight()"
   ]
  },
  {
   "cell_type": "markdown",
   "metadata": {},
   "source": [
    "### Question 9\n",
    "\n",
    "Fit and transform the training data `X_train` using a Tfidf Vectorizer ignoring terms that have a document frequency strictly lower than **5** and using **word n-grams from n=1 to n=3** (unigrams, bigrams, and trigrams).\n",
    "\n",
    "Using this document-term matrix and the following additional features:\n",
    "* the length of document (number of characters)\n",
    "* **number of digits per document**\n",
    "\n",
    "fit a Logistic Regression model with regularization `C=100`. Then compute the area under the curve (AUC) score using the transformed test data.\n",
    "\n",
    "*This function should return the AUC score as a float.*"
   ]
  },
  {
   "cell_type": "code",
   "execution_count": 302,
   "metadata": {
    "collapsed": true
   },
   "outputs": [],
   "source": [
    "from sklearn.linear_model import LogisticRegression\n",
    "\n",
    "def answer_nine():\n",
    "\n",
    "    #fitting TfidfVectorizer to the data    \n",
    "    vect = TfidfVectorizer(min_df = 5, ngram_range = (1,3)).fit(X_train)\n",
    "\n",
    "    X_train_vectorized = vect.transform(X_train)\n",
    "\n",
    "    X_train_vectorized = add_feature(X_train_vectorized, X_train.apply(lambda x: len(x)))\n",
    "    X_train_vectorized = add_feature(X_train_vectorized, X_train.apply(lambda x: len(re.findall('\\d',x))))\n",
    "\n",
    "    #fitting model\n",
    "    mdl = LogisticRegression(C = 100)\n",
    "    mdl.fit(X_train_vectorized,y_train)\n",
    "    \n",
    "    X_test_vectorized = vect.transform(X_test)\n",
    "    X_test_vectorized = add_feature(X_test_vectorized, X_test.apply(lambda x: len(x)))\n",
    "    X_test_vectorized = add_feature(X_test_vectorized, X_test.apply(lambda x: len(re.findall('\\d',x))))\n",
    "\n",
    "    score = roc_auc_score(y_test, mdl.decision_function(X_test_vectorized))\n",
    "\n",
    "    #plot_roc_curve(mdl,X_test_vectorized,y_test)\n",
    "    \n",
    "    return score"
   ]
  },
  {
   "cell_type": "code",
   "execution_count": 303,
   "metadata": {
    "collapsed": true
   },
   "outputs": [
    {
     "name": "stderr",
     "output_type": "stream",
     "text": [
      "/home/guilhermelro/.local/lib/python3.9/site-packages/sklearn/linear_model/_logistic.py:814: ConvergenceWarning: lbfgs failed to converge (status=1):\n",
      "STOP: TOTAL NO. of ITERATIONS REACHED LIMIT.\n",
      "\n",
      "Increase the number of iterations (max_iter) or scale the data as shown in:\n",
      "    https://scikit-learn.org/stable/modules/preprocessing.html\n",
      "Please also refer to the documentation for alternative solver options:\n",
      "    https://scikit-learn.org/stable/modules/linear_model.html#logistic-regression\n",
      "  n_iter_i = _check_optimize_result(\n"
     ]
    },
    {
     "data": {
      "text/plain": [
       "0.9978608899376942"
      ]
     },
     "execution_count": 303,
     "metadata": {},
     "output_type": "execute_result"
    }
   ],
   "source": [
    "answer_nine()"
   ]
  },
  {
   "cell_type": "markdown",
   "metadata": {},
   "source": [
    "### Question 10\n",
    "\n",
    "What is the average number of non-word characters (anything other than a letter, digit or underscore) per document for not spam and spam documents?\n",
    "\n",
    "*Hint: Use `\\w` and `\\W` character classes*\n",
    "\n",
    "*This function should return a tuple (average # non-word characters not spam, average # non-word characters spam).*"
   ]
  },
  {
   "cell_type": "code",
   "execution_count": 294,
   "metadata": {
    "collapsed": true
   },
   "outputs": [],
   "source": [
    "def answer_ten():\n",
    "    \n",
    "    spam_data[\"n_non_words\"] = spam_data['text'].apply(lambda x : len(re.sub('\\w', '', x)))\n",
    "\n",
    "    #calculating average values\n",
    "    spam_text_n_wrd   = spam_data[\"n_non_words\"][spam_data['target'] == 1].mean()\n",
    "    n_spam_text_n_wrd = spam_data[\"n_non_words\"][spam_data['target'] == 0].mean()\n",
    "\n",
    "    return (n_spam_text_n_wrd,spam_text_n_wrd)"
   ]
  },
  {
   "cell_type": "code",
   "execution_count": 295,
   "metadata": {
    "collapsed": true
   },
   "outputs": [
    {
     "data": {
      "text/plain": [
       "(17.29181347150259, 29.041499330655956)"
      ]
     },
     "execution_count": 295,
     "metadata": {},
     "output_type": "execute_result"
    }
   ],
   "source": [
    "answer_ten()"
   ]
  },
  {
   "cell_type": "markdown",
   "metadata": {},
   "source": [
    "### Question 11\n",
    "\n",
    "Fit and transform the training data X_train using a Count Vectorizer ignoring terms that have a document frequency strictly lower than **5** and using **character n-grams from n=2 to n=5.**\n",
    "\n",
    "To tell Count Vectorizer to use character n-grams pass in `analyzer='char_wb'` which creates character n-grams only from text inside word boundaries. This should make the model more robust to spelling mistakes.\n",
    "\n",
    "Using this document-term matrix and the following additional features:\n",
    "* the length of document (number of characters)\n",
    "* number of digits per document\n",
    "* **number of non-word characters (anything other than a letter, digit or underscore.)**\n",
    "\n",
    "fit a Logistic Regression model with regularization C=100. Then compute the area under the curve (AUC) score using the transformed test data.\n",
    "\n",
    "Also **find the 10 smallest and 10 largest coefficients from the model** and return them along with the AUC score in a tuple.\n",
    "\n",
    "The list of 10 smallest coefficients should be sorted smallest first, the list of 10 largest coefficients should be sorted largest first.\n",
    "\n",
    "The three features that were added to the document term matrix should have the following names should they appear in the list of coefficients:\n",
    "['length_of_doc', 'digit_count', 'non_word_char_count']\n",
    "\n",
    "*This function should return a tuple `(AUC score as a float, smallest coefs list, largest coefs list)`.*"
   ]
  },
  {
   "cell_type": "code",
   "execution_count": 325,
   "metadata": {
    "collapsed": true
   },
   "outputs": [],
   "source": [
    "def answer_eleven():\n",
    "    \n",
    "    #fitting TfidfVectorizer to the data    \n",
    "    vect = TfidfVectorizer(min_df = 5, ngram_range = (2,5), analyzer='char_wb').fit(X_train)\n",
    "\n",
    "    X_train_vectorized = vect.transform(X_train)\n",
    "    X_train_vectorized = add_feature(X_train_vectorized, X_train.apply(lambda x: len(x)))\n",
    "    X_train_vectorized = add_feature(X_train_vectorized, X_train.apply(lambda x: len(re.findall('\\d',x))))\n",
    "    X_train_vectorized = add_feature(X_train_vectorized, X_train.apply(lambda x: len(re.sub('\\w', '', x))))\n",
    "    \n",
    "    #fitting model\n",
    "    mdl = LogisticRegression(C = 100)\n",
    "    mdl.fit(X_train_vectorized,y_train)\n",
    "    \n",
    "    X_test_vectorized = vect.transform(X_test)\n",
    "    X_test_vectorized = add_feature(X_test_vectorized, X_test.apply(lambda x: len(x)))\n",
    "    X_test_vectorized = add_feature(X_test_vectorized, X_test.apply(lambda x: len(re.findall('\\d',x))))\n",
    "    X_test_vectorized = add_feature(X_test_vectorized, X_test.apply(lambda x: len(re.sub('\\w', '', x))))\n",
    "\n",
    "    plot_roc_curve(mdl,X_test_vectorized,y_test)\n",
    "    \n",
    "    score = roc_auc_score(y_test, mdl.decision_function(X_test_vectorized))\n",
    "\n",
    "    feature_names = np.array(vect.get_feature_names() + ['length_of_doc', 'digit_count', 'non_word_char_count'])\n",
    "\n",
    "    sorted_coef_index = mdl.coef_[0].argsort()\n",
    "    \n",
    "    # Retrieve feature names\n",
    "    smallest = feature_names[sorted_coef_index[:10]]\n",
    "    largest =  feature_names[sorted_coef_index[-10:]]\n",
    "    \n",
    "    \n",
    "    return (score, smallest, largest[::-1])"
   ]
  },
  {
   "cell_type": "code",
   "execution_count": 326,
   "metadata": {
    "collapsed": true
   },
   "outputs": [
    {
     "name": "stderr",
     "output_type": "stream",
     "text": [
      "/home/guilhermelro/.local/lib/python3.9/site-packages/sklearn/linear_model/_logistic.py:814: ConvergenceWarning: lbfgs failed to converge (status=1):\n",
      "STOP: TOTAL NO. of ITERATIONS REACHED LIMIT.\n",
      "\n",
      "Increase the number of iterations (max_iter) or scale the data as shown in:\n",
      "    https://scikit-learn.org/stable/modules/preprocessing.html\n",
      "Please also refer to the documentation for alternative solver options:\n",
      "    https://scikit-learn.org/stable/modules/linear_model.html#logistic-regression\n",
      "  n_iter_i = _check_optimize_result(\n",
      "/home/guilhermelro/.local/lib/python3.9/site-packages/sklearn/utils/deprecation.py:87: FutureWarning: Function plot_roc_curve is deprecated; Function :func:`plot_roc_curve` is deprecated in 1.0 and will be removed in 1.2. Use one of the class methods: :meth:`sklearn.metric.RocCurveDisplay.from_predictions` or :meth:`sklearn.metric.RocCurveDisplay.from_estimator`.\n",
      "  warnings.warn(msg, category=FutureWarning)\n",
      "/home/guilhermelro/.local/lib/python3.9/site-packages/sklearn/utils/deprecation.py:87: FutureWarning: Function get_feature_names is deprecated; get_feature_names is deprecated in 1.0 and will be removed in 1.2. Please use get_feature_names_out instead.\n",
      "  warnings.warn(msg, category=FutureWarning)\n"
     ]
    },
    {
     "data": {
      "text/plain": [
       "(0.9990535286827497,\n",
       " array(['..', 'i ', 'ca', 'if', ' i', '. ', 'if ', 't;', ' 6', ' if '],\n",
       "       dtype='<U19'),\n",
       " array(['**', 'ww', '***', 'xt', 'co', '****', 'ex', 'uk', 'tone', 'ne'],\n",
       "       dtype='<U19'))"
      ]
     },
     "execution_count": 326,
     "metadata": {},
     "output_type": "execute_result"
    },
    {
     "data": {
      "image/png": "[encoded data removed]",
      "text/plain": [
       "<Figure size 432x288 with 1 Axes>"
      ]
     },
     "metadata": {
      "needs_background": "light"
     },
     "output_type": "display_data"
    }
   ],
   "source": [
    "answer_eleven()"
   ]
  },
  {
   "cell_type": "code",
   "execution_count": null,
   "metadata": {},
   "outputs": [],
   "source": []
  }
 ],
 "metadata": {
  "coursera": {
   "course_slug": "python-text-mining",
   "graded_item_id": "Pn19K",
   "launcher_item_id": "y1juS",
   "part_id": "ctlgo"
  },
  "kernelspec": {
   "display_name": "Python 3",
   "language": "python",
   "name": "python3"
  },
  "language_info": {
   "codemirror_mode": {
    "name": "ipython",
    "version": 3
   },
   "file_extension": ".py",
   "mimetype": "text/x-python",
   "name": "python",
   "nbconvert_exporter": "python",
   "pygments_lexer": "ipython3",
   "version": "3.9.7"
  }
 },
 "nbformat": 4,
 "nbformat_minor": 2
}
